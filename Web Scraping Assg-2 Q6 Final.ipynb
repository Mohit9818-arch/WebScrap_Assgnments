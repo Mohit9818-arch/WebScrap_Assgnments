{
 "cells": [
  {
   "cell_type": "markdown",
   "id": "1acabfd9",
   "metadata": {},
   "source": [
    "Q6: Scrape data for first 100 sneakers you find when you visit flipkart.com and search for “sneakers” in the\n",
    "search field.\n",
    "You have to scrape 4 attributes of each sneaker:\n",
    "1. Brand\n",
    "2. ProductDescription\n",
    "3. Price\n",
    "As shown in the below image, you have to scrape the tick marked attributes."
   ]
  },
  {
   "cell_type": "code",
   "execution_count": 64,
   "id": "a5afc7d8",
   "metadata": {},
   "outputs": [
    {
     "name": "stdout",
     "output_type": "stream",
     "text": [
      "Defaulting to user installation because normal site-packages is not writeable\n",
      "Requirement already satisfied: selenium in c:\\users\\admin\\appdata\\roaming\\python\\python39\\site-packages (4.7.2)\n",
      "Requirement already satisfied: trio-websocket~=0.9 in c:\\users\\admin\\appdata\\roaming\\python\\python39\\site-packages (from selenium) (0.9.2)\n",
      "Requirement already satisfied: trio~=0.17 in c:\\users\\admin\\appdata\\roaming\\python\\python39\\site-packages (from selenium) (0.22.0)\n",
      "Requirement already satisfied: urllib3[socks]~=1.26 in c:\\programdata\\anaconda3\\lib\\site-packages (from selenium) (1.26.9)\n",
      "Requirement already satisfied: certifi>=2021.10.8 in c:\\programdata\\anaconda3\\lib\\site-packages (from selenium) (2021.10.8)\n",
      "Requirement already satisfied: attrs>=19.2.0 in c:\\programdata\\anaconda3\\lib\\site-packages (from trio~=0.17->selenium) (21.4.0)\n",
      "Requirement already satisfied: cffi>=1.14 in c:\\programdata\\anaconda3\\lib\\site-packages (from trio~=0.17->selenium) (1.15.0)\n",
      "Requirement already satisfied: sortedcontainers in c:\\programdata\\anaconda3\\lib\\site-packages (from trio~=0.17->selenium) (2.4.0)\n",
      "Requirement already satisfied: outcome in c:\\users\\admin\\appdata\\roaming\\python\\python39\\site-packages (from trio~=0.17->selenium) (1.2.0)\n",
      "Requirement already satisfied: async-generator>=1.9 in c:\\users\\admin\\appdata\\roaming\\python\\python39\\site-packages (from trio~=0.17->selenium) (1.10)\n",
      "Requirement already satisfied: sniffio in c:\\programdata\\anaconda3\\lib\\site-packages (from trio~=0.17->selenium) (1.2.0)\n",
      "Requirement already satisfied: idna in c:\\programdata\\anaconda3\\lib\\site-packages (from trio~=0.17->selenium) (3.3)\n",
      "Requirement already satisfied: exceptiongroup>=1.0.0rc9 in c:\\users\\admin\\appdata\\roaming\\python\\python39\\site-packages (from trio~=0.17->selenium) (1.0.4)\n",
      "Requirement already satisfied: pycparser in c:\\programdata\\anaconda3\\lib\\site-packages (from cffi>=1.14->trio~=0.17->selenium) (2.21)\n",
      "Requirement already satisfied: wsproto>=0.14 in c:\\users\\admin\\appdata\\roaming\\python\\python39\\site-packages (from trio-websocket~=0.9->selenium) (1.2.0)\n",
      "Requirement already satisfied: PySocks!=1.5.7,<2.0,>=1.5.6 in c:\\programdata\\anaconda3\\lib\\site-packages (from urllib3[socks]~=1.26->selenium) (1.7.1)\n",
      "Requirement already satisfied: h11<1,>=0.9.0 in c:\\users\\admin\\appdata\\roaming\\python\\python39\\site-packages (from wsproto>=0.14->trio-websocket~=0.9->selenium) (0.14.0)\n"
     ]
    }
   ],
   "source": [
    "!pip install selenium"
   ]
  },
  {
   "cell_type": "code",
   "execution_count": 65,
   "id": "4930fcef",
   "metadata": {},
   "outputs": [],
   "source": [
    "import selenium\n",
    "import pandas as pd\n",
    "from selenium import webdriver\n",
    "import warnings\n",
    "warnings.filterwarnings('ignore')\n",
    "from selenium.common.exceptions import StaleElementReferenceException, NoSuchElementException\n",
    "from selenium.webdriver.common.by import By\n",
    "import time\n",
    "import click"
   ]
  },
  {
   "cell_type": "code",
   "execution_count": 66,
   "id": "07a5ba61",
   "metadata": {},
   "outputs": [],
   "source": [
    "#Lets first connect to the driver-\n",
    "driver=webdriver.Chrome(r\"C:\\Users\\admin\\Downloads\\Compressed\\chromedriver_win32\\chromedriver.exe\")"
   ]
  },
  {
   "cell_type": "code",
   "execution_count": 67,
   "id": "56f2dee0",
   "metadata": {},
   "outputs": [],
   "source": [
    "#lets first connect to the driver-\n",
    "driver=webdriver.Chrome(r\"chromedriver.exe\")"
   ]
  },
  {
   "cell_type": "code",
   "execution_count": 68,
   "id": "33ea9aa0",
   "metadata": {},
   "outputs": [],
   "source": [
    "#Opening the flipkart page on automated chrome browser\n",
    "driver.get(\"https://www.flipkart.com/\")"
   ]
  },
  {
   "cell_type": "code",
   "execution_count": 69,
   "id": "99ec5cbb",
   "metadata": {},
   "outputs": [],
   "source": [
    "#entering designation and location as required in the question-\n",
    "\n",
    "designation=driver.find_element(By.CLASS_NAME,\"_3704LK\")\n",
    "designation.send_keys('sneaker')"
   ]
  },
  {
   "cell_type": "code",
   "execution_count": 59,
   "id": "8fc2fa3e",
   "metadata": {},
   "outputs": [],
   "source": [
    "search=driver.find_element(By.CLASS_NAME,\"_34RNph\")\n",
    "search.click()"
   ]
  },
  {
   "cell_type": "code",
   "execution_count": 60,
   "id": "6ae1d986",
   "metadata": {},
   "outputs": [],
   "source": [
    "Brand_Name=[]\n",
    "Product_Description=[]\n",
    "Price=[]\n",
    "urls=[]"
   ]
  },
  {
   "cell_type": "code",
   "execution_count": 61,
   "id": "27b9736a",
   "metadata": {},
   "outputs": [],
   "source": [
    "#scraping the data but in the PD the class_name is not same it is different.\n",
    "\n",
    "url_1 = driver.find_elements(By.XPATH,\"//a[@class='ge-49M _2Kfbh8']\")\n",
    "\n",
    "for i in url_1:\n",
    "\n",
    "    urls.append(i.get_attribute('href'))\n",
    "\n",
    "url_2 = driver.find_elements(By.XPATH,\"//a[@class='ge-49M']\")\n",
    "\n",
    "for i in url_2:\n",
    "\n",
    "    urls.append(i.get_attribute('href'))\n",
    "    \n",
    "time.sleep(4)\n",
    "\n",
    "\n",
    "for i in urls:\n",
    "    \n",
    "    driver.get(i)\n",
    "        \n",
    "     #for scrapping the Product Description\n",
    "     \n",
    "    #for k in driver.find_elements(By.XPATH,\"//a[@class='IRpwTa']\"):\n",
    "        \n",
    "        #Product_Description.append(k.text)\n",
    "        \n",
    "    #for scrapping the Brand Name\n",
    "    \n",
    "    for m in driver.find_elements(By.XPATH,\"//div[@class='_2B099V']\"):\n",
    "        \n",
    "        Brand_Name.append(m.text)\n",
    "        \n",
    "    #for scrapping the Price\n",
    "    \n",
    "    for l in driver.find_elements(By.XPATH,\"//div[@class='_30jeq3']\"):\n",
    "        \n",
    "        Price.append(l.text)"
   ]
  },
  {
   "cell_type": "markdown",
   "id": "bf1b00e1",
   "metadata": {},
   "source": [
    "/html/body/div[1]/div/div[3]/div[1]/div[2]/div[2]/div/div[1]/div/div[2]/a[1]\n",
    "\"//a[@class='IRpwTa']\""
   ]
  },
  {
   "cell_type": "code",
   "execution_count": 50,
   "id": "58d3954c",
   "metadata": {},
   "outputs": [
    {
     "data": {
      "text/plain": [
       "['https://www.flipkart.com/search?q=sneaker&otracker=search&otracker1=search&marketplace=FLIPKART&as-show=on&as=off&page=1',\n",
       " 'https://www.flipkart.com/search?q=sneaker&otracker=search&otracker1=search&marketplace=FLIPKART&as-show=on&as=off&page=2',\n",
       " 'https://www.flipkart.com/search?q=sneaker&otracker=search&otracker1=search&marketplace=FLIPKART&as-show=on&as=off&page=3',\n",
       " 'https://www.flipkart.com/search?q=sneaker&otracker=search&otracker1=search&marketplace=FLIPKART&as-show=on&as=off&page=4',\n",
       " 'https://www.flipkart.com/search?q=sneaker&otracker=search&otracker1=search&marketplace=FLIPKART&as-show=on&as=off&page=5',\n",
       " 'https://www.flipkart.com/search?q=sneaker&otracker=search&otracker1=search&marketplace=FLIPKART&as-show=on&as=off&page=6',\n",
       " 'https://www.flipkart.com/search?q=sneaker&otracker=search&otracker1=search&marketplace=FLIPKART&as-show=on&as=off&page=7',\n",
       " 'https://www.flipkart.com/search?q=sneaker&otracker=search&otracker1=search&marketplace=FLIPKART&as-show=on&as=off&page=8',\n",
       " 'https://www.flipkart.com/search?q=sneaker&otracker=search&otracker1=search&marketplace=FLIPKART&as-show=on&as=off&page=9',\n",
       " 'https://www.flipkart.com/search?q=sneaker&otracker=search&otracker1=search&marketplace=FLIPKART&as-show=on&as=off&page=10']"
      ]
     },
     "execution_count": 50,
     "metadata": {},
     "output_type": "execute_result"
    }
   ],
   "source": [
    "urls"
   ]
  },
  {
   "cell_type": "code",
   "execution_count": 62,
   "id": "90b46ad6",
   "metadata": {},
   "outputs": [
    {
     "name": "stdout",
     "output_type": "stream",
     "text": [
      "400 400\n"
     ]
    }
   ],
   "source": [
    "print(len(Brand_Name),len(Price))"
   ]
  },
  {
   "cell_type": "code",
   "execution_count": 63,
   "id": "13dfa083",
   "metadata": {},
   "outputs": [
    {
     "data": {
      "text/html": [
       "<div>\n",
       "<style scoped>\n",
       "    .dataframe tbody tr th:only-of-type {\n",
       "        vertical-align: middle;\n",
       "    }\n",
       "\n",
       "    .dataframe tbody tr th {\n",
       "        vertical-align: top;\n",
       "    }\n",
       "\n",
       "    .dataframe thead th {\n",
       "        text-align: right;\n",
       "    }\n",
       "</style>\n",
       "<table border=\"1\" class=\"dataframe\">\n",
       "  <thead>\n",
       "    <tr style=\"text-align: right;\">\n",
       "      <th></th>\n",
       "      <th>Brand_Name</th>\n",
       "      <th>Price</th>\n",
       "    </tr>\n",
       "  </thead>\n",
       "  <tbody>\n",
       "    <tr>\n",
       "      <th>0</th>\n",
       "      <td>SFR\\nFAST Trenddy Tainer Lace-ups Sporty Casua...</td>\n",
       "      <td>₹399</td>\n",
       "    </tr>\n",
       "    <tr>\n",
       "      <th>1</th>\n",
       "      <td>SFR\\nSneakers For Men\\n₹389₹89356% off\\nFree d...</td>\n",
       "      <td>₹389</td>\n",
       "    </tr>\n",
       "    <tr>\n",
       "      <th>2</th>\n",
       "      <td>aadi\\nSynthetic Leather |Lightweight|Comfort|S...</td>\n",
       "      <td>₹399</td>\n",
       "    </tr>\n",
       "    <tr>\n",
       "      <th>3</th>\n",
       "      <td>aadi\\nMesh |Lightweight|Comfort|Summer|Trendy|...</td>\n",
       "      <td>₹399</td>\n",
       "    </tr>\n",
       "    <tr>\n",
       "      <th>4</th>\n",
       "      <td>SFR\\nFAST Trenddy Tainer Lace-ups Sporty Casua...</td>\n",
       "      <td>₹399</td>\n",
       "    </tr>\n",
       "    <tr>\n",
       "      <th>...</th>\n",
       "      <td>...</td>\n",
       "      <td>...</td>\n",
       "    </tr>\n",
       "    <tr>\n",
       "      <th>395</th>\n",
       "      <td>PUMA\\nUrus Sneakers For Men\\n₹2,399₹3,99940% o...</td>\n",
       "      <td>₹2,399</td>\n",
       "    </tr>\n",
       "    <tr>\n",
       "      <th>396</th>\n",
       "      <td>THE CARLOS\\nSneakers For Men\\n₹599₹99940% off\\...</td>\n",
       "      <td>₹599</td>\n",
       "    </tr>\n",
       "    <tr>\n",
       "      <th>397</th>\n",
       "      <td>RapidBox\\nSneakers For Men\\n₹599₹99940% off\\nF...</td>\n",
       "      <td>₹599</td>\n",
       "    </tr>\n",
       "    <tr>\n",
       "      <th>398</th>\n",
       "      <td>Skechers\\nGO WALK 5 - WARWICK Sneakers For Men...</td>\n",
       "      <td>₹4,164</td>\n",
       "    </tr>\n",
       "    <tr>\n",
       "      <th>399</th>\n",
       "      <td>PUMA\\nRS-X PUZZLE Sneakers For Men\\n₹5,579₹8,9...</td>\n",
       "      <td>₹5,579</td>\n",
       "    </tr>\n",
       "  </tbody>\n",
       "</table>\n",
       "<p>400 rows × 2 columns</p>\n",
       "</div>"
      ],
      "text/plain": [
       "                                            Brand_Name   Price\n",
       "0    SFR\\nFAST Trenddy Tainer Lace-ups Sporty Casua...    ₹399\n",
       "1    SFR\\nSneakers For Men\\n₹389₹89356% off\\nFree d...    ₹389\n",
       "2    aadi\\nSynthetic Leather |Lightweight|Comfort|S...    ₹399\n",
       "3    aadi\\nMesh |Lightweight|Comfort|Summer|Trendy|...    ₹399\n",
       "4    SFR\\nFAST Trenddy Tainer Lace-ups Sporty Casua...    ₹399\n",
       "..                                                 ...     ...\n",
       "395  PUMA\\nUrus Sneakers For Men\\n₹2,399₹3,99940% o...  ₹2,399\n",
       "396  THE CARLOS\\nSneakers For Men\\n₹599₹99940% off\\...    ₹599\n",
       "397  RapidBox\\nSneakers For Men\\n₹599₹99940% off\\nF...    ₹599\n",
       "398  Skechers\\nGO WALK 5 - WARWICK Sneakers For Men...  ₹4,164\n",
       "399  PUMA\\nRS-X PUZZLE Sneakers For Men\\n₹5,579₹8,9...  ₹5,579\n",
       "\n",
       "[400 rows x 2 columns]"
      ]
     },
     "execution_count": 63,
     "metadata": {},
     "output_type": "execute_result"
    }
   ],
   "source": [
    "# creating the dataframe from above data-\n",
    "df=pd.DataFrame({'Brand_Name':Brand_Name, 'Price':Price})\n",
    "df"
   ]
  },
  {
   "cell_type": "code",
   "execution_count": null,
   "id": "c7bcc50e",
   "metadata": {},
   "outputs": [],
   "source": []
  },
  {
   "cell_type": "code",
   "execution_count": 41,
   "id": "3a179592",
   "metadata": {},
   "outputs": [
    {
     "ename": "SyntaxError",
     "evalue": "invalid syntax (3639644675.py, line 7)",
     "output_type": "error",
     "traceback": [
      "\u001b[1;36m  Input \u001b[1;32mIn [41]\u001b[1;36m\u001b[0m\n\u001b[1;33m    for k in driver.find_elements(By.XPATH,\"//a[@class=\"IRpwTa\"]\"):\u001b[0m\n\u001b[1;37m                                                        ^\u001b[0m\n\u001b[1;31mSyntaxError\u001b[0m\u001b[1;31m:\u001b[0m invalid syntax\n"
     ]
    }
   ],
   "source": [
    "for i in urls:\n",
    "    \n",
    "    driver.get(i)\n",
    "        \n",
    "     #for scrapping the Product Description\n",
    "     \n",
    "    for k in driver.find_elements(By.XPATH,\"//a[@class=\"IRpwTa\"]\"):\n",
    "        \n",
    "        Product_Description.append(k.text)\n",
    "    "
   ]
  },
  {
   "cell_type": "code",
   "execution_count": null,
   "id": "75a86276",
   "metadata": {},
   "outputs": [],
   "source": []
  },
  {
   "cell_type": "code",
   "execution_count": null,
   "id": "c0fff3c7",
   "metadata": {},
   "outputs": [],
   "source": []
  },
  {
   "cell_type": "code",
   "execution_count": null,
   "id": "b433d6a7",
   "metadata": {},
   "outputs": [],
   "source": [
    "start=0\n",
    "end=2\n",
    "for i in urls:\n",
    "    driver.get(i)\n",
    "    for page in range(start,end):\n",
    "        rating=driver.find_elements(By.CLASS_NAME,'//div[@class=\"_3LWZlK\"]')\n",
    "    for i in review:\n",
    "        Rating.append(i.text)"
   ]
  },
  {
   "cell_type": "code",
   "execution_count": null,
   "id": "0c3e8f21",
   "metadata": {},
   "outputs": [],
   "source": [
    "#Now go to the button Top Quote\n",
    "\n"
   ]
  }
 ],
 "metadata": {
  "kernelspec": {
   "display_name": "Python 3 (ipykernel)",
   "language": "python",
   "name": "python3"
  },
  "language_info": {
   "codemirror_mode": {
    "name": "ipython",
    "version": 3
   },
   "file_extension": ".py",
   "mimetype": "text/x-python",
   "name": "python",
   "nbconvert_exporter": "python",
   "pygments_lexer": "ipython3",
   "version": "3.9.12"
  }
 },
 "nbformat": 4,
 "nbformat_minor": 5
}

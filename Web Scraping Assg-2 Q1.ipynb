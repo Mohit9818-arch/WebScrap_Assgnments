{
 "cells": [
  {
   "cell_type": "code",
   "execution_count": 53,
   "id": "28993f74",
   "metadata": {},
   "outputs": [
    {
     "name": "stdout",
     "output_type": "stream",
     "text": [
      "Defaulting to user installation because normal site-packages is not writeable\n",
      "Requirement already satisfied: selenium in c:\\users\\admin\\appdata\\roaming\\python\\python39\\site-packages (4.7.2)\n",
      "Requirement already satisfied: trio-websocket~=0.9 in c:\\users\\admin\\appdata\\roaming\\python\\python39\\site-packages (from selenium) (0.9.2)\n",
      "Requirement already satisfied: certifi>=2021.10.8 in c:\\programdata\\anaconda3\\lib\\site-packages (from selenium) (2021.10.8)\n",
      "Requirement already satisfied: trio~=0.17 in c:\\users\\admin\\appdata\\roaming\\python\\python39\\site-packages (from selenium) (0.22.0)\n",
      "Requirement already satisfied: urllib3[socks]~=1.26 in c:\\programdata\\anaconda3\\lib\\site-packages (from selenium) (1.26.9)\n",
      "Requirement already satisfied: idna in c:\\programdata\\anaconda3\\lib\\site-packages (from trio~=0.17->selenium) (3.3)\n",
      "Requirement already satisfied: sniffio in c:\\programdata\\anaconda3\\lib\\site-packages (from trio~=0.17->selenium) (1.2.0)\n",
      "Requirement already satisfied: async-generator>=1.9 in c:\\users\\admin\\appdata\\roaming\\python\\python39\\site-packages (from trio~=0.17->selenium) (1.10)\n",
      "Requirement already satisfied: cffi>=1.14 in c:\\programdata\\anaconda3\\lib\\site-packages (from trio~=0.17->selenium) (1.15.0)\n",
      "Requirement already satisfied: outcome in c:\\users\\admin\\appdata\\roaming\\python\\python39\\site-packages (from trio~=0.17->selenium) (1.2.0)\n",
      "Requirement already satisfied: attrs>=19.2.0 in c:\\programdata\\anaconda3\\lib\\site-packages (from trio~=0.17->selenium) (21.4.0)\n",
      "Requirement already satisfied: exceptiongroup>=1.0.0rc9 in c:\\users\\admin\\appdata\\roaming\\python\\python39\\site-packages (from trio~=0.17->selenium) (1.0.4)\n",
      "Requirement already satisfied: sortedcontainers in c:\\programdata\\anaconda3\\lib\\site-packages (from trio~=0.17->selenium) (2.4.0)\n",
      "Requirement already satisfied: pycparser in c:\\programdata\\anaconda3\\lib\\site-packages (from cffi>=1.14->trio~=0.17->selenium) (2.21)\n",
      "Requirement already satisfied: wsproto>=0.14 in c:\\users\\admin\\appdata\\roaming\\python\\python39\\site-packages (from trio-websocket~=0.9->selenium) (1.2.0)\n",
      "Requirement already satisfied: PySocks!=1.5.7,<2.0,>=1.5.6 in c:\\programdata\\anaconda3\\lib\\site-packages (from urllib3[socks]~=1.26->selenium) (1.7.1)\n",
      "Requirement already satisfied: h11<1,>=0.9.0 in c:\\users\\admin\\appdata\\roaming\\python\\python39\\site-packages (from wsproto>=0.14->trio-websocket~=0.9->selenium) (0.14.0)\n"
     ]
    }
   ],
   "source": [
    "!pip install selenium"
   ]
  },
  {
   "cell_type": "code",
   "execution_count": 56,
   "id": "1011406e",
   "metadata": {},
   "outputs": [],
   "source": [
    "import selenium\n",
    "import pandas as pd\n",
    "from selenium import webdriver\n",
    "import warnings\n",
    "warnings.filterwarnings('ignore')\n",
    "from selenium.common.exceptions import StaleElementReferenceException, NoSuchElementException\n",
    "from selenium.webdriver.common.by import By\n",
    "import time"
   ]
  },
  {
   "cell_type": "markdown",
   "id": "e828b771",
   "metadata": {},
   "source": [
    "Now we will download the WebDriver for the Web Browser.Steps for download are-1.Check the version of your browser. 2.go to the link\n",
    "https://chromedriver.chromium.org/downloads 3.Download the webdriver for your version of your browser."
   ]
  },
  {
   "cell_type": "code",
   "execution_count": 57,
   "id": "74c94a35",
   "metadata": {},
   "outputs": [],
   "source": [
    "#Let first connect to the driver-\n",
    "driver=webdriver.Chrome(r\"C:\\Users\\admin\\Downloads\\Compressed\\chromedriver_win32\\chromedriver.exe\")"
   ]
  },
  {
   "cell_type": "code",
   "execution_count": 58,
   "id": "fdbd5f1f",
   "metadata": {},
   "outputs": [],
   "source": [
    "#les first connect to the driver-\n",
    "driver=webdriver.Chrome(r\"chromedriver.exe\")"
   ]
  },
  {
   "cell_type": "code",
   "execution_count": 59,
   "id": "d29db9a5",
   "metadata": {},
   "outputs": [],
   "source": [
    "#opening the naukri page on automated chrome browser\n",
    "driver.get(\"https://www.naukri.com/\")"
   ]
  },
  {
   "cell_type": "code",
   "execution_count": 60,
   "id": "c964e27f",
   "metadata": {},
   "outputs": [],
   "source": [
    "#entering designation and location as required in the question-\n",
    "\n",
    "designation=driver.find_element(By.CLASS_NAME,\"suggestor-input\")\n",
    "designation.send_keys('Data Analyst')"
   ]
  },
  {
   "cell_type": "code",
   "execution_count": 61,
   "id": "2395b4a3",
   "metadata": {},
   "outputs": [],
   "source": [
    "#Absolute Path- In this link there is Single slash.\n",
    "location=driver.find_element(By.XPATH,\"/html/body/div[1]/div[6]/div/div/div[5]/div/div/div/input\")\n",
    "location.send_keys('Bangalore')"
   ]
  },
  {
   "cell_type": "code",
   "execution_count": 62,
   "id": "7b3364b3",
   "metadata": {},
   "outputs": [],
   "source": [
    "search=driver.find_element(By.CLASS_NAME,\"qsbSubmit\")\n",
    "search.click()"
   ]
  },
  {
   "cell_type": "code",
   "execution_count": 63,
   "id": "9f61e022",
   "metadata": {},
   "outputs": [],
   "source": [
    "job_title=[]\n",
    "job_location=[]\n",
    "company_name=[]\n",
    "experience_required=[]"
   ]
  },
  {
   "cell_type": "code",
   "execution_count": 66,
   "id": "b5d9bc68",
   "metadata": {},
   "outputs": [],
   "source": [
    "# scraping Job title from the given page, it is relative XPATH it is used to fetch more then one job\n",
    "title_tags=driver.find_elements(By.XPATH,'//a[@class=\"title fw500 ellipsis\"]')\n",
    "for i in title_tags[0:10]:\n",
    "    title=i.text\n",
    "    job_title.append(title)\n",
    "    \n",
    "# scraping Job Location from the given page\n",
    "location_tags=driver.find_elements(By.XPATH,\"//li[@class='fleft grey-text br2 placeHolderLi location']\")\n",
    "for i in location_tags[0:10]:\n",
    "    location=i.text\n",
    "    job_location.append(location)\n",
    "                                   \n",
    "# scraping Company name from the given page\n",
    "company_tags=driver.find_elements(By.XPATH,\"//a[@class='subTitle ellipsis fleft']\")\n",
    "for i in company_tags[0:10]:\n",
    "    company=i.text\n",
    "    company_name.append(company)\n",
    "\n",
    "# scraping Job Experience from the given page\n",
    "experience_tags=driver.find_elements(By.XPATH,\"//li[@class='fleft grey-text br2 placeHolderLi experience']//span\")\n",
    "for i in experience_tags[0:10]:\n",
    "    exp=i.text\n",
    "    experience_required.append(exp)\n",
    "    "
   ]
  },
  {
   "cell_type": "code",
   "execution_count": 67,
   "id": "e8a72222",
   "metadata": {},
   "outputs": [
    {
     "name": "stdout",
     "output_type": "stream",
     "text": [
      "10 10 10 10\n"
     ]
    }
   ],
   "source": [
    "print(len(job_title),len(job_location),len(company_name),len(experience_required))"
   ]
  },
  {
   "cell_type": "code",
   "execution_count": 68,
   "id": "a40acc9b",
   "metadata": {},
   "outputs": [
    {
     "data": {
      "text/plain": [
       "10"
      ]
     },
     "execution_count": 68,
     "metadata": {},
     "output_type": "execute_result"
    }
   ],
   "source": [
    "len(job_title)"
   ]
  },
  {
   "cell_type": "code",
   "execution_count": 69,
   "id": "eded5237",
   "metadata": {},
   "outputs": [
    {
     "data": {
      "text/plain": [
       "['Data Analyst',\n",
       " 'Senior Data Analyst - Applied Analytics',\n",
       " 'Immigration Data Analyst',\n",
       " 'Data Analyst',\n",
       " 'Assistant Manager/Manager - Data Analyst - Analytics Firm',\n",
       " 'Business Analyst/ Sr. Data Analyst',\n",
       " 'Data Analyst II',\n",
       " 'Data Analyst',\n",
       " 'Data Analyst 1',\n",
       " 'Senior Analyst - Data Management']"
      ]
     },
     "execution_count": 69,
     "metadata": {},
     "output_type": "execute_result"
    }
   ],
   "source": [
    "job_title"
   ]
  },
  {
   "cell_type": "code",
   "execution_count": 70,
   "id": "3b6db390",
   "metadata": {},
   "outputs": [
    {
     "data": {
      "text/plain": [
       "10"
      ]
     },
     "execution_count": 70,
     "metadata": {},
     "output_type": "execute_result"
    }
   ],
   "source": [
    "len(job_location)"
   ]
  },
  {
   "cell_type": "code",
   "execution_count": 71,
   "id": "4a4937e1",
   "metadata": {},
   "outputs": [
    {
     "data": {
      "text/plain": [
       "['Bangalore/Bengaluru',\n",
       " 'Bangalore/Bengaluru',\n",
       " 'Bangalore/Bengaluru',\n",
       " 'Permanent Remote',\n",
       " 'Bangalore/Bengaluru, Delhi / NCR',\n",
       " 'Hybrid - Bangalore/Bengaluru(Whitefield)',\n",
       " 'Bangalore/Bengaluru',\n",
       " 'Bangalore/Bengaluru',\n",
       " 'Bangalore/Bengaluru',\n",
       " 'Bangalore/Bengaluru']"
      ]
     },
     "execution_count": 71,
     "metadata": {},
     "output_type": "execute_result"
    }
   ],
   "source": [
    "job_location"
   ]
  },
  {
   "cell_type": "code",
   "execution_count": 72,
   "id": "e611071b",
   "metadata": {},
   "outputs": [
    {
     "data": {
      "text/plain": [
       "10"
      ]
     },
     "execution_count": 72,
     "metadata": {},
     "output_type": "execute_result"
    }
   ],
   "source": [
    "len(company_name)"
   ]
  },
  {
   "cell_type": "code",
   "execution_count": 73,
   "id": "f00ae43f",
   "metadata": {},
   "outputs": [
    {
     "data": {
      "text/plain": [
       "['Namdhari Seeds',\n",
       " 'IBM',\n",
       " 'Capgemini',\n",
       " 'Treebo Hotels',\n",
       " 'Huquo Consulting Pvt. Ltd',\n",
       " 'Zen Data Shastra Llp',\n",
       " 'VMware',\n",
       " 'Optum',\n",
       " 'Optum',\n",
       " 'Accenture']"
      ]
     },
     "execution_count": 73,
     "metadata": {},
     "output_type": "execute_result"
    }
   ],
   "source": [
    "company_name"
   ]
  },
  {
   "cell_type": "code",
   "execution_count": 74,
   "id": "8dd390d1",
   "metadata": {},
   "outputs": [
    {
     "data": {
      "text/html": [
       "<div>\n",
       "<style scoped>\n",
       "    .dataframe tbody tr th:only-of-type {\n",
       "        vertical-align: middle;\n",
       "    }\n",
       "\n",
       "    .dataframe tbody tr th {\n",
       "        vertical-align: top;\n",
       "    }\n",
       "\n",
       "    .dataframe thead th {\n",
       "        text-align: right;\n",
       "    }\n",
       "</style>\n",
       "<table border=\"1\" class=\"dataframe\">\n",
       "  <thead>\n",
       "    <tr style=\"text-align: right;\">\n",
       "      <th></th>\n",
       "      <th>Job_title</th>\n",
       "      <th>Job_location</th>\n",
       "      <th>Company_name</th>\n",
       "      <th>Exp_required</th>\n",
       "    </tr>\n",
       "  </thead>\n",
       "  <tbody>\n",
       "    <tr>\n",
       "      <th>0</th>\n",
       "      <td>Data Analyst</td>\n",
       "      <td>Bangalore/Bengaluru</td>\n",
       "      <td>Namdhari Seeds</td>\n",
       "      <td>0-2 Yrs</td>\n",
       "    </tr>\n",
       "    <tr>\n",
       "      <th>1</th>\n",
       "      <td>Senior Data Analyst - Applied Analytics</td>\n",
       "      <td>Bangalore/Bengaluru</td>\n",
       "      <td>IBM</td>\n",
       "      <td>2-6 Yrs</td>\n",
       "    </tr>\n",
       "    <tr>\n",
       "      <th>2</th>\n",
       "      <td>Immigration Data Analyst</td>\n",
       "      <td>Bangalore/Bengaluru</td>\n",
       "      <td>Capgemini</td>\n",
       "      <td>4-6 Yrs</td>\n",
       "    </tr>\n",
       "    <tr>\n",
       "      <th>3</th>\n",
       "      <td>Data Analyst</td>\n",
       "      <td>Permanent Remote</td>\n",
       "      <td>Treebo Hotels</td>\n",
       "      <td>1-2 Yrs</td>\n",
       "    </tr>\n",
       "    <tr>\n",
       "      <th>4</th>\n",
       "      <td>Assistant Manager/Manager - Data Analyst - Ana...</td>\n",
       "      <td>Bangalore/Bengaluru, Delhi / NCR</td>\n",
       "      <td>Huquo Consulting Pvt. Ltd</td>\n",
       "      <td>6-11 Yrs</td>\n",
       "    </tr>\n",
       "    <tr>\n",
       "      <th>5</th>\n",
       "      <td>Business Analyst/ Sr. Data Analyst</td>\n",
       "      <td>Hybrid - Bangalore/Bengaluru(Whitefield)</td>\n",
       "      <td>Zen Data Shastra Llp</td>\n",
       "      <td>2-6 Yrs</td>\n",
       "    </tr>\n",
       "    <tr>\n",
       "      <th>6</th>\n",
       "      <td>Data Analyst II</td>\n",
       "      <td>Bangalore/Bengaluru</td>\n",
       "      <td>VMware</td>\n",
       "      <td>3-6 Yrs</td>\n",
       "    </tr>\n",
       "    <tr>\n",
       "      <th>7</th>\n",
       "      <td>Data Analyst</td>\n",
       "      <td>Bangalore/Bengaluru</td>\n",
       "      <td>Optum</td>\n",
       "      <td>2-5 Yrs</td>\n",
       "    </tr>\n",
       "    <tr>\n",
       "      <th>8</th>\n",
       "      <td>Data Analyst 1</td>\n",
       "      <td>Bangalore/Bengaluru</td>\n",
       "      <td>Optum</td>\n",
       "      <td>5-7 Yrs</td>\n",
       "    </tr>\n",
       "    <tr>\n",
       "      <th>9</th>\n",
       "      <td>Senior Analyst - Data Management</td>\n",
       "      <td>Bangalore/Bengaluru</td>\n",
       "      <td>Accenture</td>\n",
       "      <td>5-8 Yrs</td>\n",
       "    </tr>\n",
       "  </tbody>\n",
       "</table>\n",
       "</div>"
      ],
      "text/plain": [
       "                                           Job_title  \\\n",
       "0                                       Data Analyst   \n",
       "1            Senior Data Analyst - Applied Analytics   \n",
       "2                           Immigration Data Analyst   \n",
       "3                                       Data Analyst   \n",
       "4  Assistant Manager/Manager - Data Analyst - Ana...   \n",
       "5                 Business Analyst/ Sr. Data Analyst   \n",
       "6                                    Data Analyst II   \n",
       "7                                       Data Analyst   \n",
       "8                                     Data Analyst 1   \n",
       "9                   Senior Analyst - Data Management   \n",
       "\n",
       "                               Job_location               Company_name  \\\n",
       "0                       Bangalore/Bengaluru             Namdhari Seeds   \n",
       "1                       Bangalore/Bengaluru                        IBM   \n",
       "2                       Bangalore/Bengaluru                  Capgemini   \n",
       "3                          Permanent Remote              Treebo Hotels   \n",
       "4          Bangalore/Bengaluru, Delhi / NCR  Huquo Consulting Pvt. Ltd   \n",
       "5  Hybrid - Bangalore/Bengaluru(Whitefield)       Zen Data Shastra Llp   \n",
       "6                       Bangalore/Bengaluru                     VMware   \n",
       "7                       Bangalore/Bengaluru                      Optum   \n",
       "8                       Bangalore/Bengaluru                      Optum   \n",
       "9                       Bangalore/Bengaluru                  Accenture   \n",
       "\n",
       "  Exp_required  \n",
       "0      0-2 Yrs  \n",
       "1      2-6 Yrs  \n",
       "2      4-6 Yrs  \n",
       "3      1-2 Yrs  \n",
       "4     6-11 Yrs  \n",
       "5      2-6 Yrs  \n",
       "6      3-6 Yrs  \n",
       "7      2-5 Yrs  \n",
       "8      5-7 Yrs  \n",
       "9      5-8 Yrs  "
      ]
     },
     "execution_count": 74,
     "metadata": {},
     "output_type": "execute_result"
    }
   ],
   "source": [
    "# creating the dataframe from above data-\n",
    "df=pd.DataFrame({'Job_title':job_title,'Job_location':job_location,'Company_name':company_name,'Exp_required':experience_required})\n",
    "df "
   ]
  },
  {
   "cell_type": "markdown",
   "id": "5d04eec6",
   "metadata": {},
   "source": [
    "# How to scrap/fetch the url of any thing like Job Title,Location,Company_name,Experience."
   ]
  },
  {
   "cell_type": "code",
   "execution_count": 76,
   "id": "d5704021",
   "metadata": {},
   "outputs": [
    {
     "data": {
      "text/plain": [
       "[<selenium.webdriver.remote.webelement.WebElement (session=\"8228d1c8e9e6bbede8d649db8f358048\", element=\"9ae070f2-db63-49dc-99f1-80efeedbe270\")>,\n",
       " <selenium.webdriver.remote.webelement.WebElement (session=\"8228d1c8e9e6bbede8d649db8f358048\", element=\"ac8ca499-3631-42cc-8149-20392d4fd0c0\")>,\n",
       " <selenium.webdriver.remote.webelement.WebElement (session=\"8228d1c8e9e6bbede8d649db8f358048\", element=\"3d4c1e12-4d0b-4cad-b7c4-88dc8a8eef6e\")>,\n",
       " <selenium.webdriver.remote.webelement.WebElement (session=\"8228d1c8e9e6bbede8d649db8f358048\", element=\"89ca30b4-adfd-4447-9223-ef906ffd8dac\")>]"
      ]
     },
     "execution_count": 76,
     "metadata": {},
     "output_type": "execute_result"
    }
   ],
   "source": [
    "# to fetch the url:-\n",
    "url=driver.find_elements(By.XPATH,'//a[@class=\"title fw500 ellipsis\"]')\n",
    "url[0:4]"
   ]
  },
  {
   "cell_type": "code",
   "execution_count": 79,
   "id": "fc1e6c18",
   "metadata": {},
   "outputs": [
    {
     "name": "stdout",
     "output_type": "stream",
     "text": [
      "https://www.naukri.com/job-listings-data-analyst-namdhari-seeds-bangalore-bengaluru-0-to-2-years-161222008302\n",
      "https://www.naukri.com/job-listings-senior-data-analyst-applied-analytics-ibm-india-pvt-limited-bangalore-bengaluru-2-to-6-years-161222909174\n",
      "https://www.naukri.com/job-listings-immigration-data-analyst-capgemini-technology-services-india-limited-bangalore-bengaluru-4-to-6-years-171222907022\n",
      "https://www.naukri.com/job-listings-data-analyst-treebo-hotels-bangalore-bengaluru-1-to-2-years-161222005737\n",
      "https://www.naukri.com/job-listings-assistant-manager-manager-data-analyst-analytics-firm-huquo-consulting-pvt-ltd-delhi-ncr-bangalore-bengaluru-6-to-11-years-161222905845\n",
      "https://www.naukri.com/job-listings-business-analyst-sr-data-analyst-zen-data-shastra-llp-bangalore-bengaluru-2-to-6-years-141222004384\n",
      "https://www.naukri.com/job-listings-data-analyst-ii-vmware-india-bangalore-bengaluru-3-to-6-years-171222500615\n",
      "https://www.naukri.com/job-listings-data-analyst-optum-global-solutions-india-private-limited-bangalore-bengaluru-2-to-5-years-161222910682\n",
      "https://www.naukri.com/job-listings-data-analyst-1-optum-global-solutions-india-private-limited-bangalore-bengaluru-5-to-7-years-161222910038\n",
      "https://www.naukri.com/job-listings-senior-analyst-data-management-accenture-solutions-pvt-ltd-bangalore-bengaluru-5-to-8-years-161222905013\n"
     ]
    }
   ],
   "source": [
    "for i in url[0:10]: #lets provide range to print only top 4 data\n",
    "    print(i.get_attribute('href'))"
   ]
  },
  {
   "cell_type": "code",
   "execution_count": 78,
   "id": "f895ad03",
   "metadata": {},
   "outputs": [],
   "source": [
    "job_titles=[]"
   ]
  },
  {
   "cell_type": "code",
   "execution_count": null,
   "id": "e9aec6e1",
   "metadata": {},
   "outputs": [],
   "source": [
    "start=0\n",
    "end=2\n",
    "for page in range(start,end):\n",
    "    titles=driver.find_elements(By.XPATH,\"//a[@class='title fw500 ellipsis']\")\n",
    "    for i in titles:\n",
    "        job_titles.append(i.text)\n",
    "    next_button=driver.find_element(By.XPATH,'//a[@class=\"fright fs14 btn-secondary br2\"]') # to scrap data from next pages\n",
    "    next_button.click()\n",
    "    time.sleep(3)"
   ]
  },
  {
   "cell_type": "code",
   "execution_count": null,
   "id": "245f6a8c",
   "metadata": {},
   "outputs": [],
   "source": []
  }
 ],
 "metadata": {
  "kernelspec": {
   "display_name": "Python 3 (ipykernel)",
   "language": "python",
   "name": "python3"
  },
  "language_info": {
   "codemirror_mode": {
    "name": "ipython",
    "version": 3
   },
   "file_extension": ".py",
   "mimetype": "text/x-python",
   "name": "python",
   "nbconvert_exporter": "python",
   "pygments_lexer": "ipython3",
   "version": "3.9.12"
  }
 },
 "nbformat": 4,
 "nbformat_minor": 5
}
